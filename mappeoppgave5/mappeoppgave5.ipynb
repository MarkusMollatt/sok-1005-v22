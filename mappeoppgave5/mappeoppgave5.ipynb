{
 "cells": [
  {
   "cell_type": "markdown",
   "id": "0f98d818-24ef-422f-bad5-223f26e53dbb",
   "metadata": {},
   "source": [
    "# Mappeoppgave 5"
   ]
  },
  {
   "cell_type": "markdown",
   "id": "0a46576f-921c-44ba-b255-770d48d1ea8f",
   "metadata": {},
   "source": [
    "Laster inn nødvendige pakker og dataen jeg skal bruke i oppgaven."
   ]
  },
  {
   "cell_type": "code",
   "execution_count": 29,
   "id": "9e9839cf-1c60-466b-96eb-39247ea95d4f",
   "metadata": {},
   "outputs": [
    {
     "data": {
      "text/plain": [
       "[     Ranking                   Country GDP per Capita  2022 Population\n",
       " 0          1                Luxembourg       $118,001           642371\n",
       " 1          2                 Singapore        $97,057          5943546\n",
       " 2          3                   Ireland        $94,392          5020199\n",
       " 3          4                     Qatar        $93,508          2979915\n",
       " 4          5               Switzerland        $72,874          8773637\n",
       " ..       ...                       ...            ...              ...\n",
       " 180      190                    Malawi           $993         20180839\n",
       " 181      191  Central African Republic           $979          5016678\n",
       " 182      192                   Somalia           $925         16841795\n",
       " 183      193               South Sudan           $791         11618511\n",
       " 184      194                   Burundi           $760         12624840\n",
       " \n",
       " [185 rows x 4 columns]]"
      ]
     },
     "execution_count": 29,
     "metadata": {},
     "output_type": "execute_result"
    }
   ],
   "source": [
    "import pandas as pd\n",
    "import numpy as np \n",
    "\n",
    "url = \"https://worldpopulationreview.com/country-rankings/gdp-per-capita-by-country\"\n",
    "df = pd.read_html(url, header = 0)\n",
    "df"
   ]
  },
  {
   "cell_type": "markdown",
   "id": "880a28ab-c782-489a-9da2-11d1b5c4998a",
   "metadata": {},
   "source": [
    "Kjører index 0 i listen."
   ]
  },
  {
   "cell_type": "code",
   "execution_count": 28,
   "id": "eac775da-82f6-4de1-85cd-3218b346daf1",
   "metadata": {},
   "outputs": [
    {
     "data": {
      "text/html": [
       "<div>\n",
       "<style scoped>\n",
       "    .dataframe tbody tr th:only-of-type {\n",
       "        vertical-align: middle;\n",
       "    }\n",
       "\n",
       "    .dataframe tbody tr th {\n",
       "        vertical-align: top;\n",
       "    }\n",
       "\n",
       "    .dataframe thead th {\n",
       "        text-align: right;\n",
       "    }\n",
       "</style>\n",
       "<table border=\"1\" class=\"dataframe\">\n",
       "  <thead>\n",
       "    <tr style=\"text-align: right;\">\n",
       "      <th></th>\n",
       "      <th>Ranking</th>\n",
       "      <th>Country</th>\n",
       "      <th>GDP per Capita</th>\n",
       "      <th>2022 Population</th>\n",
       "    </tr>\n",
       "  </thead>\n",
       "  <tbody>\n",
       "    <tr>\n",
       "      <th>0</th>\n",
       "      <td>1</td>\n",
       "      <td>Luxembourg</td>\n",
       "      <td>$118,001</td>\n",
       "      <td>642371</td>\n",
       "    </tr>\n",
       "    <tr>\n",
       "      <th>1</th>\n",
       "      <td>2</td>\n",
       "      <td>Singapore</td>\n",
       "      <td>$97,057</td>\n",
       "      <td>5943546</td>\n",
       "    </tr>\n",
       "    <tr>\n",
       "      <th>2</th>\n",
       "      <td>3</td>\n",
       "      <td>Ireland</td>\n",
       "      <td>$94,392</td>\n",
       "      <td>5020199</td>\n",
       "    </tr>\n",
       "    <tr>\n",
       "      <th>3</th>\n",
       "      <td>4</td>\n",
       "      <td>Qatar</td>\n",
       "      <td>$93,508</td>\n",
       "      <td>2979915</td>\n",
       "    </tr>\n",
       "    <tr>\n",
       "      <th>4</th>\n",
       "      <td>5</td>\n",
       "      <td>Switzerland</td>\n",
       "      <td>$72,874</td>\n",
       "      <td>8773637</td>\n",
       "    </tr>\n",
       "    <tr>\n",
       "      <th>...</th>\n",
       "      <td>...</td>\n",
       "      <td>...</td>\n",
       "      <td>...</td>\n",
       "      <td>...</td>\n",
       "    </tr>\n",
       "    <tr>\n",
       "      <th>180</th>\n",
       "      <td>190</td>\n",
       "      <td>Malawi</td>\n",
       "      <td>$993</td>\n",
       "      <td>20180839</td>\n",
       "    </tr>\n",
       "    <tr>\n",
       "      <th>181</th>\n",
       "      <td>191</td>\n",
       "      <td>Central African Republic</td>\n",
       "      <td>$979</td>\n",
       "      <td>5016678</td>\n",
       "    </tr>\n",
       "    <tr>\n",
       "      <th>182</th>\n",
       "      <td>192</td>\n",
       "      <td>Somalia</td>\n",
       "      <td>$925</td>\n",
       "      <td>16841795</td>\n",
       "    </tr>\n",
       "    <tr>\n",
       "      <th>183</th>\n",
       "      <td>193</td>\n",
       "      <td>South Sudan</td>\n",
       "      <td>$791</td>\n",
       "      <td>11618511</td>\n",
       "    </tr>\n",
       "    <tr>\n",
       "      <th>184</th>\n",
       "      <td>194</td>\n",
       "      <td>Burundi</td>\n",
       "      <td>$760</td>\n",
       "      <td>12624840</td>\n",
       "    </tr>\n",
       "  </tbody>\n",
       "</table>\n",
       "<p>185 rows × 4 columns</p>\n",
       "</div>"
      ],
      "text/plain": [
       "     Ranking                   Country GDP per Capita  2022 Population\n",
       "0          1                Luxembourg       $118,001           642371\n",
       "1          2                 Singapore        $97,057          5943546\n",
       "2          3                   Ireland        $94,392          5020199\n",
       "3          4                     Qatar        $93,508          2979915\n",
       "4          5               Switzerland        $72,874          8773637\n",
       "..       ...                       ...            ...              ...\n",
       "180      190                    Malawi           $993         20180839\n",
       "181      191  Central African Republic           $979          5016678\n",
       "182      192                   Somalia           $925         16841795\n",
       "183      193               South Sudan           $791         11618511\n",
       "184      194                   Burundi           $760         12624840\n",
       "\n",
       "[185 rows x 4 columns]"
      ]
     },
     "execution_count": 28,
     "metadata": {},
     "output_type": "execute_result"
    }
   ],
   "source": [
    "df[0]"
   ]
  },
  {
   "cell_type": "markdown",
   "id": "4c19b261-df88-4aa3-a96e-eaf902812aa3",
   "metadata": {},
   "source": [
    "Henter dataframen ut av lista."
   ]
  },
  {
   "cell_type": "code",
   "execution_count": 27,
   "id": "f5b8fd61-61c9-45d0-a150-c2cf4ebabe69",
   "metadata": {},
   "outputs": [],
   "source": [
    "df2022 = df[0]"
   ]
  },
  {
   "cell_type": "markdown",
   "id": "c756ed26-3cb6-4400-92cd-1365ff9df437",
   "metadata": {},
   "source": [
    "Gir meg fasongen på dataframen, og kaller det restriction for å bruke senere."
   ]
  },
  {
   "cell_type": "code",
   "execution_count": 26,
   "id": "3133ad52-a30f-4a68-98fb-00c5d38beef0",
   "metadata": {},
   "outputs": [],
   "source": [
    "restriction = df2022.shape"
   ]
  },
  {
   "cell_type": "markdown",
   "id": "e8086f96-57cf-4940-961a-a48849dd70ed",
   "metadata": {},
   "source": [
    "Lager liste over variablene jeg skal bruke i plottet. Dette gjør jeg siden plottet ikke ville kjøre riktig uten å fjerne dollartegn og mellomrom."
   ]
  },
  {
   "cell_type": "code",
   "execution_count": 25,
   "id": "40f609bf-8d24-4206-9334-5f2bda9a7e38",
   "metadata": {},
   "outputs": [],
   "source": [
    "gdp_liste = list()\n",
    "\n",
    "for i in range(restriction[1]):\n",
    "    if i != 2:\n",
    "        continue\n",
    "    for j in range(restriction[0]):\n",
    "        k = df2022.values[j][i]\n",
    "        k = k.strip(\"$\")\n",
    "        values_list = k.split(\",\")\n",
    "        gdp_liste.append(int(\"\".join(values_list)))\n",
    "        \n",
    "population_liste = list()\n",
    "for i in range(restriction[1]):\n",
    "    if i != 3:\n",
    "        continue\n",
    "    for j in range(restriction[0]):\n",
    "        k = df2022.values[j][i]\n",
    "        population_liste.append(int(k))"
   ]
  },
  {
   "cell_type": "markdown",
   "id": "b01a4888-6857-4f68-8852-ecbf55768a45",
   "metadata": {},
   "source": [
    "Lager et plot over dataen jeg har henta."
   ]
  },
  {
   "cell_type": "code",
   "execution_count": 24,
   "id": "cfeaed48-2d72-4b2d-9fe2-d13b3322fe31",
   "metadata": {},
   "outputs": [
    {
     "data": {
      "text/plain": [
       "<matplotlib.legend.Legend at 0x7f93ac392880>"
      ]
     },
     "execution_count": 24,
     "metadata": {},
     "output_type": "execute_result"
    },
    {
     "data": {
      "image/png": "[encoded data removed]",
      "text/plain": [
       "<Figure size 432x288 with 1 Axes>"
      ]
     },
     "metadata": {
      "needs_background": "light"
     },
     "output_type": "display_data"
    }
   ],
   "source": [
    "from matplotlib import pyplot as plt\n",
    "\n",
    "fig, ax=plt.subplots()\n",
    "\n",
    "ax.set_ylabel('BNP per person')\n",
    "ax.set_xlabel('Populasjon')\n",
    "\n",
    "\n",
    "ax.scatter(population_liste, gdp_liste, label = 'BNP per person i forhold til populasjon')\n",
    "ax.legend(loc='upper right',frameon=True)"
   ]
  },
  {
   "cell_type": "markdown",
   "id": "269f9a3d-48b7-49e2-a912-e4872e2fbef3",
   "metadata": {},
   "source": [
    "Plotter de samme variablene ved bruk av logaritmefunksjonen til numpy."
   ]
  },
  {
   "cell_type": "code",
   "execution_count": 23,
   "id": "3b77b34e-4001-4812-9188-2f8fc9958336",
   "metadata": {},
   "outputs": [
    {
     "data": {
      "text/plain": [
       "<matplotlib.legend.Legend at 0x7f93aee666d0>"
      ]
     },
     "execution_count": 23,
     "metadata": {},
     "output_type": "execute_result"
    },
    {
     "data": {
      "image/png": "[encoded data removed]",
      "text/plain": [
       "<Figure size 432x288 with 1 Axes>"
      ]
     },
     "metadata": {
      "needs_background": "light"
     },
     "output_type": "display_data"
    }
   ],
   "source": [
    "fig, ax=plt.subplots()\n",
    "\n",
    "ax.set_ylabel('BNP per person (logaritme)')\n",
    "ax.set_xlabel('Populasjon (logaritme)')\n",
    "\n",
    "\n",
    "ax.scatter(np.log(population_liste), np.log(gdp_liste), label = 'BNP per person i forhold til populasjon')\n",
    "ax.legend(loc='upper right',frameon=True)"
   ]
  },
  {
   "cell_type": "code",
   "execution_count": 8,
   "id": "981a3b53-83b2-4a6e-83bb-7d4681b6b8c8",
   "metadata": {},
   "outputs": [
    {
     "data": {
      "text/html": [
       "<div>\n",
       "<style scoped>\n",
       "    .dataframe tbody tr th:only-of-type {\n",
       "        vertical-align: middle;\n",
       "    }\n",
       "\n",
       "    .dataframe tbody tr th {\n",
       "        vertical-align: top;\n",
       "    }\n",
       "\n",
       "    .dataframe thead th {\n",
       "        text-align: right;\n",
       "    }\n",
       "</style>\n",
       "<table border=\"1\" class=\"dataframe\">\n",
       "  <thead>\n",
       "    <tr style=\"text-align: right;\">\n",
       "      <th></th>\n",
       "      <th>0</th>\n",
       "    </tr>\n",
       "  </thead>\n",
       "  <tbody>\n",
       "    <tr>\n",
       "      <th>0</th>\n",
       "      <td>11.678448</td>\n",
       "    </tr>\n",
       "    <tr>\n",
       "      <th>1</th>\n",
       "      <td>11.483054</td>\n",
       "    </tr>\n",
       "    <tr>\n",
       "      <th>2</th>\n",
       "      <td>11.455212</td>\n",
       "    </tr>\n",
       "    <tr>\n",
       "      <th>3</th>\n",
       "      <td>11.445802</td>\n",
       "    </tr>\n",
       "    <tr>\n",
       "      <th>4</th>\n",
       "      <td>11.196487</td>\n",
       "    </tr>\n",
       "    <tr>\n",
       "      <th>...</th>\n",
       "      <td>...</td>\n",
       "    </tr>\n",
       "    <tr>\n",
       "      <th>180</th>\n",
       "      <td>6.900731</td>\n",
       "    </tr>\n",
       "    <tr>\n",
       "      <th>181</th>\n",
       "      <td>6.886532</td>\n",
       "    </tr>\n",
       "    <tr>\n",
       "      <th>182</th>\n",
       "      <td>6.829794</td>\n",
       "    </tr>\n",
       "    <tr>\n",
       "      <th>183</th>\n",
       "      <td>6.673298</td>\n",
       "    </tr>\n",
       "    <tr>\n",
       "      <th>184</th>\n",
       "      <td>6.633318</td>\n",
       "    </tr>\n",
       "  </tbody>\n",
       "</table>\n",
       "<p>185 rows × 1 columns</p>\n",
       "</div>"
      ],
      "text/plain": [
       "             0\n",
       "0    11.678448\n",
       "1    11.483054\n",
       "2    11.455212\n",
       "3    11.445802\n",
       "4    11.196487\n",
       "..         ...\n",
       "180   6.900731\n",
       "181   6.886532\n",
       "182   6.829794\n",
       "183   6.673298\n",
       "184   6.633318\n",
       "\n",
       "[185 rows x 1 columns]"
      ]
     },
     "execution_count": 8,
     "metadata": {},
     "output_type": "execute_result"
    }
   ],
   "source": [
    "y=np.log(gdp_liste)\n",
    "pd.DataFrame(y)"
   ]
  },
  {
   "cell_type": "code",
   "execution_count": 9,
   "id": "4e12dd92-5e02-4585-9b6d-547a8b10020a",
   "metadata": {},
   "outputs": [
    {
     "data": {
      "text/html": [
       "<div>\n",
       "<style scoped>\n",
       "    .dataframe tbody tr th:only-of-type {\n",
       "        vertical-align: middle;\n",
       "    }\n",
       "\n",
       "    .dataframe tbody tr th {\n",
       "        vertical-align: top;\n",
       "    }\n",
       "\n",
       "    .dataframe thead th {\n",
       "        text-align: right;\n",
       "    }\n",
       "</style>\n",
       "<table border=\"1\" class=\"dataframe\">\n",
       "  <thead>\n",
       "    <tr style=\"text-align: right;\">\n",
       "      <th></th>\n",
       "      <th>0</th>\n",
       "      <th>intercept</th>\n",
       "    </tr>\n",
       "  </thead>\n",
       "  <tbody>\n",
       "    <tr>\n",
       "      <th>0</th>\n",
       "      <td>13.372921</td>\n",
       "      <td>1</td>\n",
       "    </tr>\n",
       "    <tr>\n",
       "      <th>1</th>\n",
       "      <td>15.597816</td>\n",
       "      <td>1</td>\n",
       "    </tr>\n",
       "    <tr>\n",
       "      <th>2</th>\n",
       "      <td>15.428980</td>\n",
       "      <td>1</td>\n",
       "    </tr>\n",
       "    <tr>\n",
       "      <th>3</th>\n",
       "      <td>14.907405</td>\n",
       "      <td>1</td>\n",
       "    </tr>\n",
       "    <tr>\n",
       "      <th>4</th>\n",
       "      <td>15.987262</td>\n",
       "      <td>1</td>\n",
       "    </tr>\n",
       "    <tr>\n",
       "      <th>...</th>\n",
       "      <td>...</td>\n",
       "      <td>...</td>\n",
       "    </tr>\n",
       "    <tr>\n",
       "      <th>180</th>\n",
       "      <td>16.820244</td>\n",
       "      <td>1</td>\n",
       "    </tr>\n",
       "    <tr>\n",
       "      <th>181</th>\n",
       "      <td>15.428279</td>\n",
       "      <td>1</td>\n",
       "    </tr>\n",
       "    <tr>\n",
       "      <th>182</th>\n",
       "      <td>16.639374</td>\n",
       "      <td>1</td>\n",
       "    </tr>\n",
       "    <tr>\n",
       "      <th>183</th>\n",
       "      <td>16.268110</td>\n",
       "      <td>1</td>\n",
       "    </tr>\n",
       "    <tr>\n",
       "      <th>184</th>\n",
       "      <td>16.351177</td>\n",
       "      <td>1</td>\n",
       "    </tr>\n",
       "  </tbody>\n",
       "</table>\n",
       "<p>185 rows × 2 columns</p>\n",
       "</div>"
      ],
      "text/plain": [
       "             0  intercept\n",
       "0    13.372921          1\n",
       "1    15.597816          1\n",
       "2    15.428980          1\n",
       "3    14.907405          1\n",
       "4    15.987262          1\n",
       "..         ...        ...\n",
       "180  16.820244          1\n",
       "181  15.428279          1\n",
       "182  16.639374          1\n",
       "183  16.268110          1\n",
       "184  16.351177          1\n",
       "\n",
       "[185 rows x 2 columns]"
      ]
     },
     "execution_count": 9,
     "metadata": {},
     "output_type": "execute_result"
    }
   ],
   "source": [
    "x=pd.DataFrame(np.log(population_liste))\n",
    "x['intercept']=1\n",
    "x"
   ]
  },
  {
   "cell_type": "markdown",
   "id": "2e9b6aee-ef71-47be-8d6b-2aa7452fd02b",
   "metadata": {},
   "source": [
    "Laster inn pakke for å kunne regne ut koeffesienter og lage regresjonslinje."
   ]
  },
  {
   "cell_type": "code",
   "execution_count": 10,
   "id": "ced18e44-63ad-4af8-ac74-a567dc346829",
   "metadata": {},
   "outputs": [
    {
     "name": "stdout",
     "output_type": "stream",
     "text": [
      "                            OLS Regression Results                            \n",
      "==============================================================================\n",
      "Dep. Variable:                      y   R-squared:                       0.005\n",
      "Model:                            OLS   Adj. R-squared:                 -0.000\n",
      "Method:                 Least Squares   F-statistic:                    0.9122\n",
      "Date:                Sun, 03 Apr 2022   Prob (F-statistic):              0.341\n",
      "Time:                        21:40:11   Log-Likelihood:                -293.19\n",
      "No. Observations:                 185   AIC:                             590.4\n",
      "Df Residuals:                     183   BIC:                             596.8\n",
      "Df Model:                           1                                         \n",
      "Covariance Type:            nonrobust                                         \n",
      "==============================================================================\n",
      "                 coef    std err          t      P>|t|      [0.025      0.975]\n",
      "------------------------------------------------------------------------------\n",
      "0             -0.0396      0.041     -0.955      0.341      -0.121       0.042\n",
      "intercept      9.9793      0.662     15.076      0.000       8.673      11.285\n",
      "==============================================================================\n",
      "Omnibus:                       18.068   Durbin-Watson:                   0.012\n",
      "Prob(Omnibus):                  0.000   Jarque-Bera (JB):                7.505\n",
      "Skew:                          -0.246   Prob(JB):                       0.0235\n",
      "Kurtosis:                       2.145   Cond. No.                         121.\n",
      "==============================================================================\n",
      "\n",
      "Notes:\n",
      "[1] Standard Errors assume that the covariance matrix of the errors is correctly specified.\n"
     ]
    }
   ],
   "source": [
    "from statsmodels.regression.linear_model import OLS\n",
    "\n",
    "res=OLS(y,x).fit()\n",
    "\n",
    "print(res.summary())"
   ]
  },
  {
   "cell_type": "code",
   "execution_count": 11,
   "id": "803b9799-a9da-4940-b522-9ff3add1dc0e",
   "metadata": {},
   "outputs": [
    {
     "data": {
      "text/plain": [
       "0           -0.039629\n",
       "intercept    9.979318\n",
       "dtype: float64"
      ]
     },
     "execution_count": 11,
     "metadata": {},
     "output_type": "execute_result"
    }
   ],
   "source": [
    "res.params"
   ]
  },
  {
   "cell_type": "markdown",
   "id": "aa630d2a-0eed-48d8-961e-aeb64ebfa0e6",
   "metadata": {},
   "source": [
    "Legger til en regresjonslinje i plottet"
   ]
  },
  {
   "cell_type": "code",
   "execution_count": 21,
   "id": "c6bc9800-ed40-46b9-ad1a-94962ae7d8d3",
   "metadata": {},
   "outputs": [
    {
     "data": {
      "image/png": "[encoded data removed]",
      "text/plain": [
       "<Figure size 432x288 with 1 Axes>"
      ]
     },
     "execution_count": 21,
     "metadata": {},
     "output_type": "execute_result"
    }
   ],
   "source": [
    "x=np.linspace(min(np.log(gdp_liste)), max(np.log(population_liste)), 100)\n",
    "\n",
    "regression_line=res.params['intercept']+res.params[0]*x\n",
    "\n",
    "ax.plot(x, regression_line,color='red')\n",
    "fig"
   ]
  },
  {
   "cell_type": "markdown",
   "id": "4c18f46f-880b-448d-bc12-03da5e4751ee",
   "metadata": {},
   "source": [
    "Til slutt kan vi konkludere med at det er svært liten korrelasjon mellom BNP per person og befolkningen i landet. Likevel ser vi at BNP per person minker reduseres litt jo større populasjonen i landet er."
   ]
  }
 ],
 "metadata": {
  "kernelspec": {
   "display_name": "Python 3 (ipykernel)",
   "language": "python",
   "name": "python3"
  },
  "language_info": {
   "codemirror_mode": {
    "name": "ipython",
    "version": 3
   },
   "file_extension": ".py",
   "mimetype": "text/x-python",
   "name": "python",
   "nbconvert_exporter": "python",
   "pygments_lexer": "ipython3",
   "version": "3.9.9"
  }
 },
 "nbformat": 4,
 "nbformat_minor": 5
}
